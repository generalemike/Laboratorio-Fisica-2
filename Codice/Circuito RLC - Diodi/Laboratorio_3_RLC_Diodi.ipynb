{
  "nbformat": 4,
  "nbformat_minor": 0,
  "metadata": {
    "colab": {
      "name": "Laboratorio 3 - RLC - Diodi.ipynb",
      "provenance": [],
      "collapsed_sections": []
    },
    "kernelspec": {
      "name": "python3",
      "display_name": "Python 3"
    },
    "language_info": {
      "name": "python"
    }
  },
  "cells": [
    {
      "cell_type": "markdown",
      "source": [
        "#Laboratorio 3"
      ],
      "metadata": {
        "id": "vnxZOHAdoyZp"
      }
    },
    {
      "cell_type": "markdown",
      "source": [
        "# Importo Le Librerie"
      ],
      "metadata": {
        "id": "RwUUS0AdoyRS"
      }
    },
    {
      "cell_type": "code",
      "execution_count": null,
      "metadata": {
        "id": "uAsIFSUGogCm"
      },
      "outputs": [],
      "source": [
        "import math\n",
        "import numpy as np  \n",
        "from matplotlib import pyplot as plt \n",
        "from scipy.optimize import curve_fit \n",
        "from scipy import odr\n",
        "from ipywidgets import interact, interact_manual, FloatSlider, Checkbox, BoundedFloatText\n",
        "from google.colab import files\n",
        "from pprint import pprint"
      ]
    },
    {
      "cell_type": "markdown",
      "source": [
        "# Circuito RLC"
      ],
      "metadata": {
        "id": "6vqMTpguo5rw"
      }
    },
    {
      "cell_type": "markdown",
      "source": [
        "## Importo I Dati\n"
      ],
      "metadata": {
        "id": "U18kz0ztpWAj"
      }
    },
    {
      "cell_type": "markdown",
      "source": [
        " I dati comprendono \n",
        "\n",
        " 1. Tensione in entrata (Volt)\n",
        " 2. Tensione in uscita (Volt)\n",
        " 3. Frequenza / pulsazione (Hz)"
      ],
      "metadata": {
        "id": "WvU0CF58zKUB"
      }
    },
    {
      "cell_type": "code",
      "source": [
        "tensioni_in_uscita = [1.28, 1.6, 1.92, 2.24, 2.72, 3.28, 3.44, 3.68, 3.84, 4.24, 4.160, 3.92, 3.6, 3.44, 3.12, 2.8, 2.64, 2.16, 1.92, 1.6, 1.44, 1.28, ]\n",
        "\n",
        "tensioni_in_entrata = [4.24] * len(tensioni_in_uscita)\n",
        "\n",
        "frequenze = [12180, 12750, 13180, 13550, 14000, 14370, 14460, 14630, 14740, 15160, 15620, 15860, 16100, 16240, 16500, 16710, 16960, 17500, 17910, 18450, 19290, 20000, ]\n",
        "\n",
        "pulsazioni = [2 * math.pi * i for i in frequenze]"
      ],
      "metadata": {
        "id": "pigOJvIapTLI"
      },
      "execution_count": null,
      "outputs": []
    },
    {
      "cell_type": "code",
      "source": [
        "y = [tensioni_in_uscita[i]/tensioni_in_entrata[i] for i in range(len(tensioni_in_entrata))]\n",
        "x = frequenze\n",
        "\n",
        "plt.scatter(x, y)\n",
        "plt.grid()\n",
        "#plt.xscale(\"log\")\n",
        "\n",
        "x = np.array(pulsazioni)\n",
        "y = np.array(y)"
      ],
      "metadata": {
        "colab": {
          "base_uri": "https://localhost:8080/",
          "height": 265
        },
        "id": "IYVBKJ8zzcOv",
        "outputId": "dc3bf1b3-dce9-4bb8-cf8a-d9c56c1c352f"
      },
      "execution_count": null,
      "outputs": [
        {
          "output_type": "display_data",
          "data": {
            "text/plain": [
              "<Figure size 432x288 with 1 Axes>"
            ],
            "image/png": "[encoded data removed]"
          },
          "metadata": {
            "needs_background": "light"
          }
        }
      ]
    },
    {
      "cell_type": "markdown",
      "source": [
        "## Eseguo Il Fit"
      ],
      "metadata": {
        "id": "E5gwj6mOpYP4"
      }
    },
    {
      "cell_type": "markdown",
      "source": [
        "### Fit Routine"
      ],
      "metadata": {
        "id": "5vd-kMdjpcgZ"
      }
    },
    {
      "cell_type": "code",
      "source": [
        "def funzione_fit(o, w): \n",
        "    return 1 / np.sqrt( (1 + (o[1]))**2  + (w * o[2] - 1 / (w * o[3]))**2 )\n",
        " \n",
        "def fitplot(w, G, A, B, C, D, print_output=True, plot_guess=False):\n",
        "\n",
        "  risonanza_model = odr.Model(funzione_fit)\n",
        "  fit_data = odr.RealData(w, G)\n",
        "  beta0 = np.array([A, B, C, D]) #array of initial guesses\n",
        "\n",
        "  print(beta0)\n",
        "  fit = odr.ODR(fit_data, risonanza_model, beta0=beta0)\n",
        "  global out\n",
        "  out = fit.run()\n",
        "\n",
        "  sample_w = np.arange(10000 * 6, 30000 * 6, 1)\n",
        "  plt.show()\n",
        "\n",
        "  plt.figure(figsize=(9, 6))\n",
        "\n",
        "  if plot_guess:\n",
        "      plt.plot(sample_w, funzione_fit(beta0,sample_w),'--', color=[0.3,0.7,0], label=\"Guess\", linewidth=2) # plot guess\n",
        "\n",
        "#plotting fit result\n",
        "  plt.plot(sample_w, funzione_fit(out.beta, sample_w), color=[1,0,0], linewidth=2)\n",
        "  plt.scatter(x, y)\n",
        "  plt.title(\"Grafico\")\n",
        "  plt.xlabel(\"frequenza (1/s)\")\n",
        "  plt.xscale(\"log\")\n",
        "  plt.ylabel(\"Ampiezza (V)\")\n",
        "  plt.grid(which='both')\n",
        "  plt.legend()\n",
        "  plt.show()\n",
        "\n",
        "  plt.plot(sample_w, funzione_fit(out.beta, sample_w), color=[1,0,0], linewidth=2)\n",
        "  plt.scatter(x, y)\n",
        "  plt.title(\"Grafico\")\n",
        "  plt.xlabel(\"frequenza (1/s)\")\n",
        "  plt.ylabel(\"Ampiezza (V)\")\n",
        "  plt.grid(which='both')\n",
        "  plt.legend()\n",
        "  plt.show()\n",
        "\n",
        "  \n",
        "  if print_output:\n",
        "    print(f\"A = {out.beta[0]}\\nR_l/R = {out.beta[1]}\\nL/R = {out.beta[2]}\\ntau = {out.beta[3]}\")"
      ],
      "metadata": {
        "id": "Ias92jXTpizB"
      },
      "execution_count": null,
      "outputs": []
    },
    {
      "cell_type": "markdown",
      "source": [
        "### Risultati Fit"
      ],
      "metadata": {
        "id": "LCdZYReZpeJw"
      }
    },
    {
      "cell_type": "code",
      "source": [
        "\n",
        "fitplot(x, y, 1, 1, 1.6E-4, -10E-10)"
      ],
      "metadata": {
        "colab": {
          "base_uri": "https://localhost:8080/",
          "height": 808
        },
        "id": "ANR5lrr_paCI",
        "outputId": "c51a271f-9165-49f7-9eec-230f921e46c2"
      },
      "execution_count": null,
      "outputs": [
        {
          "output_type": "stream",
          "name": "stderr",
          "text": [
            "No handles with labels found to put in legend.\n"
          ]
        },
        {
          "output_type": "stream",
          "name": "stdout",
          "text": [
            "[ 1.0e+00  1.0e+00  1.6e-04 -1.0e-09]\n"
          ]
        },
        {
          "output_type": "display_data",
          "data": {
            "text/plain": [
              "<Figure size 648x432 with 1 Axes>"
            ],
            "image/png": "[encoded data removed]"
          },
          "metadata": {
            "needs_background": "light"
          }
        },
        {
          "output_type": "stream",
          "name": "stderr",
          "text": [
            "No handles with labels found to put in legend.\n"
          ]
        },
        {
          "output_type": "display_data",
          "data": {
            "text/plain": [
              "<Figure size 432x288 with 1 Axes>"
            ],
            "image/png": "[encoded data removed]"
          },
          "metadata": {
            "needs_background": "light"
          }
        },
        {
          "output_type": "stream",
          "name": "stdout",
          "text": [
            "A = 1.0\n",
            "R_l/R = -0.011586358102544986\n",
            "L/R = -6.673278097247735e-05\n",
            "tau = -1.6140461800128566e-06\n"
          ]
        }
      ]
    },
    {
      "cell_type": "code",
      "source": [
        "R_l = 0.011586358102544986 * 220\n",
        "L = 6.673278097247735e-05 * 220\n",
        "c = -1.6140461800128566e-06 / 220\n",
        "\n",
        "print(f\"R_L = {R_l} ohm\\nL = {L} H\\nC = {c} F\")"
      ],
      "metadata": {
        "colab": {
          "base_uri": "https://localhost:8080/"
        },
        "id": "O7BAQvR0_MXX",
        "outputId": "dfeaec9b-bc0c-441f-a9f4-da295dd5acb4"
      },
      "execution_count": null,
      "outputs": [
        {
          "output_type": "stream",
          "name": "stdout",
          "text": [
            "R_L = 2.548998782559897 ohm\n",
            "L = 0.014681211813945015 H\n",
            "C = -7.336573545512985e-09 F\n"
          ]
        }
      ]
    },
    {
      "cell_type": "markdown",
      "source": [
        "# Diodi"
      ],
      "metadata": {
        "id": "SEHqlppQEEpg"
      }
    },
    {
      "cell_type": "markdown",
      "source": [
        "## Raccolgo I Dati"
      ],
      "metadata": {
        "id": "DlFBZzI6LMxm"
      }
    }
  ]
}