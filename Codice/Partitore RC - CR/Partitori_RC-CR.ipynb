{
  "nbformat": 4,
  "nbformat_minor": 0,
  "metadata": {
    "colab": {
      "name": "Laboratorio 2 - Partitore RC.ipynb",
      "provenance": [],
      "collapsed_sections": [
        "47ZPCzdQtCd3",
        "Rnnrhyn8-kk0",
        "daQ53pGqtJfe",
        "vrnoHrq02RHl",
        "Bzm3wf8V8jUi",
        "eZDyrlM_8mJZ",
        "4du8aI_pCMPW",
        "FBtC9kXXCXGa",
        "vCNLOXE4GJsa",
        "wBpS3lE7GQ4S",
        "_ZrDkSEpGZ_r",
        "jz513Z1pIhMU",
        "1b-piV-lImAS"
      ]
    },
    "kernelspec": {
      "name": "python3",
      "display_name": "Python 3"
    },
    "language_info": {
      "name": "python"
    }
  },
  "cells": [
    {
      "cell_type": "markdown",
      "source": [
        "# Laboratorio 2 - Partitore RC - CR"
      ],
      "metadata": {
        "id": "lQsbqns_s9M4"
      }
    },
    {
      "cell_type": "markdown",
      "source": [
        "# Importo Le Librerie"
      ],
      "metadata": {
        "id": "47ZPCzdQtCd3"
      }
    },
    {
      "cell_type": "code",
      "execution_count": null,
      "metadata": {
        "id": "ksGcd0r0qdNH"
      },
      "outputs": [],
      "source": [
        "import math\n",
        "import numpy as np  \n",
        "from matplotlib import pyplot as plt \n",
        "from scipy.optimize import curve_fit \n",
        "from scipy import odr\n",
        "from ipywidgets import interact, interact_manual, FloatSlider, Checkbox, BoundedFloatText\n",
        "from google.colab import files\n",
        "from pprint import pprint"
      ]
    },
    {
      "cell_type": "markdown",
      "source": [
        "# Partitore RC"
      ],
      "metadata": {
        "id": "Rnnrhyn8-kk0"
      }
    },
    {
      "cell_type": "markdown",
      "source": [
        "## Importo I Dati"
      ],
      "metadata": {
        "id": "daQ53pGqtJfe"
      }
    },
    {
      "cell_type": "markdown",
      "source": [
        " I dati comprendono \n",
        "\n",
        " 1. Tensione in entrata (Volt)\n",
        " 2. Tensione in uscita (Volt)\n",
        " 3. Frequenza / pulsazione (kHz)\n",
        " 4. Sfasamento (Gradi)"
      ],
      "metadata": {
        "id": "cNZsOntSuWne"
      }
    },
    {
      "cell_type": "code",
      "source": [
        "tensioni_in_uscita = [9.36, 9.36, 9.2, 9.04, 8.72, 8.4, 8, 7.6, 7.28, 6.96, 6.56, 6.16, 5.920, 5.6, 5.360, 5.120, 4.8, 4.64, 4.4, 4.24, 4, 3.76, 3.6, 3.52, 3.36, 3.2, 3.12, 3.04, 2.88, 2.8, 2.72, 2.56, 2.48, ]\n",
        "\n",
        "tensioni_in_entrata = [9.44] * len(tensioni_in_uscita)\n",
        "\n",
        "frequenze = [201, 513, 1015, 1528, 2046, 2530, 3019, 3511, 3981, 4420, 5050, 5540, 5981, 6510, 6983, 7484, 8024, 8420, 9088, 9528, 10288, 10960, 11480, 12010, 12534, 13110, 13600, 14022,  14676, 15320, 16150, 16852, 17390, ]\n",
        "\n",
        "pulsazioni = [2 * math.pi * i for i in frequenze]\n",
        "\n",
        "sfasamenti = [-2.6, -6.2, -11.9, -17.1, -23.27, -27.2, -31, -34, -38, -41, -46, -48, -50, -51, -54, -56, -57, -59, -60, -62, -63, -66, -65, -67, -67, -67, -70, -69, -70, -71, -71, -72, -71]\n",
        "\n",
        "guadagni = [ tensioni_in_uscita[i] / tensioni_in_entrata[i] for i in range(0, len(tensioni_in_entrata))]"
      ],
      "metadata": {
        "id": "vDMvUm20tLdO"
      },
      "execution_count": null,
      "outputs": []
    },
    {
      "cell_type": "markdown",
      "source": [
        "Eseguo un plot di prova per visualizzare i dati prima del fit"
      ],
      "metadata": {
        "id": "AwJbqif0vZmu"
      }
    },
    {
      "cell_type": "code",
      "source": [
        "y = np.array(guadagni)\n",
        "x = np.array(pulsazioni)\n",
        "\n",
        "plt.scatter(x, y)\n",
        "plt.grid()"
      ],
      "metadata": {
        "colab": {
          "base_uri": "https://localhost:8080/",
          "height": 265
        },
        "id": "ov6-u613vFoW",
        "outputId": "2ecf8269-15d0-44da-a2dc-35c5b7e76764"
      },
      "execution_count": null,
      "outputs": [
        {
          "output_type": "display_data",
          "data": {
            "text/plain": [
              "<Figure size 432x288 with 1 Axes>"
            ],
            "image/png": "[encoded data removed]"
          },
          "metadata": {
            "needs_background": "light"
          }
        }
      ]
    },
    {
      "cell_type": "code",
      "source": [
        "plt.xscale(\"log\")\n",
        "plt.scatter(x, y)\n",
        "plt.grid()"
      ],
      "metadata": {
        "colab": {
          "base_uri": "https://localhost:8080/",
          "height": 269
        },
        "id": "vTqv5zEh7xtc",
        "outputId": "b2181db5-d8fa-40db-b951-5adf18e403fa"
      },
      "execution_count": null,
      "outputs": [
        {
          "output_type": "display_data",
          "data": {
            "text/plain": [
              "<Figure size 432x288 with 1 Axes>"
            ],
            "image/png": "[encoded data removed]"
          },
          "metadata": {
            "needs_background": "light"
          }
        }
      ]
    },
    {
      "cell_type": "markdown",
      "source": [
        "## Eseguo Il Fit"
      ],
      "metadata": {
        "id": "vrnoHrq02RHl"
      }
    },
    {
      "cell_type": "markdown",
      "source": [
        "### Fit Routine"
      ],
      "metadata": {
        "id": "Bzm3wf8V8jUi"
      }
    },
    {
      "cell_type": "code",
      "source": [
        "def funzione_fit(w, t): \n",
        "    return 1 / (np.sqrt(1 + (w * t)**2))\n",
        " \n",
        "def fitplot(w, G, t, print_output=True, plot_guess=True):\n",
        "\n",
        "  risonanza_model = odr.Model(funzione_fit)\n",
        "  fit_data = odr.RealData(w, G)\n",
        "  beta0 = np.array([t]) #array of initial guesses\n",
        "\n",
        "  fit = odr.ODR(fit_data, risonanza_model, beta0=beta0)\n",
        "  global out\n",
        "  out = fit.run()\n",
        "\n",
        "  sample_w = np.arange(1000, 130000, 1)\n",
        "  plt.show()\n",
        "\n",
        "  plt.figure(figsize=(9, 6))\n",
        "\n",
        "\n",
        "  if plot_guess:\n",
        "    plt.plot(sample_w, funzione_fit(beta0,sample_w),'--', color=[0.3,0.7,0], label=\"Guess\", linewidth=2) # plot guess\n",
        "\n",
        "#plotting fit result\n",
        "  plt.plot(sample_w, funzione_fit(sample_w, out.beta[0]), color=[1,0,0], linewidth=2)\n",
        "  plt.scatter(x, y)\n",
        "  plt.title(\"Grafico\")\n",
        "  plt.xlabel(\"Pulsazione (1/s)\")\n",
        "  plt.xscale(\"log\")\n",
        "  plt.ylabel(\"Ampiezza (V)\")\n",
        "  plt.grid(which='both')\n",
        "  plt.legend()\n",
        "  plt.show()\n",
        "\n",
        "  plt.plot(sample_w, funzione_fit(sample_w, out.beta[0]), color=[1,0,0], linewidth=2)\n",
        "  plt.scatter(x, y)\n",
        "  plt.title(\"Grafico\")\n",
        "  plt.xlabel(\"Pulsazione (1/s)\")\n",
        "  plt.ylabel(\"Ampiezza (V)\")\n",
        "  plt.grid(which='both')\n",
        "  plt.legend()\n",
        "  plt.show()\n",
        "\n",
        "  \n",
        "  if print_output:\n",
        "    print(f\"t = {out.beta[0]}\")\n",
        "  "
      ],
      "metadata": {
        "id": "hjn4KbUy2Tcd"
      },
      "execution_count": null,
      "outputs": []
    },
    {
      "cell_type": "markdown",
      "source": [
        "### Risultati Fit"
      ],
      "metadata": {
        "id": "eZDyrlM_8mJZ"
      }
    },
    {
      "cell_type": "code",
      "source": [
        "fitplot(x, y, -3E-5, plot_guess=False)"
      ],
      "metadata": {
        "colab": {
          "base_uri": "https://localhost:8080/",
          "height": 738
        },
        "id": "Jfd9HfTc4OjN",
        "outputId": "2e1e0e1f-cebb-4a4a-a96f-5bb52238313b"
      },
      "execution_count": null,
      "outputs": [
        {
          "output_type": "stream",
          "name": "stderr",
          "text": [
            "No handles with labels found to put in legend.\n"
          ]
        },
        {
          "output_type": "display_data",
          "data": {
            "text/plain": [
              "<Figure size 648x432 with 1 Axes>"
            ],
            "image/png": "[encoded data removed]"
          },
          "metadata": {
            "needs_background": "light"
          }
        },
        {
          "output_type": "stream",
          "name": "stderr",
          "text": [
            "No handles with labels found to put in legend.\n"
          ]
        },
        {
          "output_type": "display_data",
          "data": {
            "text/plain": [
              "<Figure size 432x288 with 1 Axes>"
            ],
            "image/png": "[encoded data removed]"
          },
          "metadata": {
            "needs_background": "light"
          }
        },
        {
          "output_type": "stream",
          "name": "stdout",
          "text": [
            "t = -3.3223616649672e-05\n"
          ]
        }
      ]
    },
    {
      "cell_type": "code",
      "source": [
        "print(\"la pulsazione di taglio w_0 è : w_0 = \" + str(1 / 3.32E-5))\n",
        "print(\"la frequenza di taglio f_0 è: f_0 = \" + str(30120/(2 * math.pi)))\n",
        "print(f\"la capacità del condensatore, nota la resistenza R={10E4}ohm è: C = \" + str(3.32E-5 / 10E4))"
      ],
      "metadata": {
        "colab": {
          "base_uri": "https://localhost:8080/"
        },
        "id": "bUayVXaN45Z4",
        "outputId": "b16fa06f-5767-4c44-c735-879fb02eb751"
      },
      "execution_count": null,
      "outputs": [
        {
          "output_type": "stream",
          "name": "stdout",
          "text": [
            "la pulsazione di taglio w_0 è : w_0 = 30120.481927710844\n",
            "la frequenza di taglio f_0 è: f_0 = 4793.746885927888\n",
            "la capacità del condensatore, nota la resistenza R=100000.0ohm è: C = 3.32e-10\n"
          ]
        }
      ]
    },
    {
      "cell_type": "markdown",
      "source": [
        "# Partitore CR"
      ],
      "metadata": {
        "id": "4du8aI_pCMPW"
      }
    },
    {
      "cell_type": "markdown",
      "source": [
        "## Importo i Dati"
      ],
      "metadata": {
        "id": "FBtC9kXXCXGa"
      }
    },
    {
      "cell_type": "markdown",
      "source": [
        " I dati comprendono \n",
        "\n",
        " 1. Tensione in entrata (Volt)\n",
        " 2. Tensione in uscita (Volt)\n",
        " 3. Frequenza / pulsazione (kHz)\n",
        " 4. Sfasamento (Gradi)"
      ],
      "metadata": {
        "id": "tbF3nJv5CZY7"
      }
    },
    {
      "cell_type": "code",
      "source": [
        "tensioni_in_uscita = [9.2, 9.2, 9, 8.8, 8.4, 7.6, 5.44, 3.6, 3.2, 2.88, 2.4, 1.84, 1.36, 0.8, 0.624, 0.432, 0.308, 0.204, 0.111, ]\n",
        "\n",
        "tensioni_in_entrata = [9.2] * len(tensioni_in_uscita)\n",
        "\n",
        "frequenze = [3520, 3214, 2768, 2258, 1600, 1068, 532, 310, 270, 244, 200, 148, 107, 64, 50, 34, 24, 16.42, 8, ]\n",
        "\n",
        "pulsazioni = [2 * math.pi * i for i in frequenze]\n",
        "\n",
        "sfasamenti = [11, 12, 13, 17, 24, 33, 54, 67, 71, 73, 75, 79, 82, 84, 87, 88, 87, 88, 92, ]\n",
        "\n",
        "guadagni = [ tensioni_in_uscita[i] / tensioni_in_entrata[i] for i in range(0, len(tensioni_in_entrata))]"
      ],
      "metadata": {
        "id": "xuNy2xiLCN86"
      },
      "execution_count": null,
      "outputs": []
    },
    {
      "cell_type": "markdown",
      "source": [
        "Eseguo un plot di prova per visualizzare i dati prima del fit"
      ],
      "metadata": {
        "id": "G6KjkGaECpkz"
      }
    },
    {
      "cell_type": "code",
      "source": [
        "y = np.array(guadagni)\n",
        "x = np.array(pulsazioni)\n",
        "\n",
        "plt.scatter(x, y)\n",
        "plt.grid()"
      ],
      "metadata": {
        "colab": {
          "base_uri": "https://localhost:8080/",
          "height": 265
        },
        "id": "6blr_Q0FCoXD",
        "outputId": "ac095b2f-fa9b-4a76-d168-3ddd7fe44211"
      },
      "execution_count": null,
      "outputs": [
        {
          "output_type": "display_data",
          "data": {
            "text/plain": [
              "<Figure size 432x288 with 1 Axes>"
            ],
            "image/png": "[encoded data removed]"
          },
          "metadata": {
            "needs_background": "light"
          }
        }
      ]
    },
    {
      "cell_type": "code",
      "source": [
        "plt.xscale(\"log\")\n",
        "plt.scatter(x, y)\n",
        "plt.grid()"
      ],
      "metadata": {
        "colab": {
          "base_uri": "https://localhost:8080/",
          "height": 269
        },
        "id": "reb3qbOBD7Eb",
        "outputId": "16d380f4-0b40-4fcd-b787-348b1fa41659"
      },
      "execution_count": null,
      "outputs": [
        {
          "output_type": "display_data",
          "data": {
            "text/plain": [
              "<Figure size 432x288 with 1 Axes>"
            ],
            "image/png": "[encoded data removed]"
          },
          "metadata": {
            "needs_background": "light"
          }
        }
      ]
    },
    {
      "cell_type": "markdown",
      "source": [
        "## Eseguo Il Fit"
      ],
      "metadata": {
        "id": "vCNLOXE4GJsa"
      }
    },
    {
      "cell_type": "markdown",
      "source": [
        "### Fit Routine"
      ],
      "metadata": {
        "id": "wBpS3lE7GQ4S"
      }
    },
    {
      "cell_type": "code",
      "source": [
        "def funzione_fit(w, t): \n",
        "    return 1 / (np.sqrt(1 + 1/(w * t)**2))\n",
        " \n",
        "def fitplot(w, G, t, print_output=True, plot_guess=True):\n",
        "\n",
        "  risonanza_model = odr.Model(funzione_fit)\n",
        "  fit_data = odr.RealData(w, G)\n",
        "  beta0 = np.array([t]) #array of initial guesses\n",
        "\n",
        "  fit = odr.ODR(fit_data, risonanza_model, beta0=beta0)\n",
        "  global out\n",
        "  out = fit.run()\n",
        "\n",
        "  sample_w = np.arange(0, 63000, 1)\n",
        "  plt.show()\n",
        "\n",
        "  plt.figure(figsize=(9, 6))\n",
        "\n",
        "\n",
        "  if plot_guess:\n",
        "    plt.plot(sample_w, funzione_fit(beta0,sample_w),'--', color=[0.3,0.7,0], label=\"Guess\", linewidth=2) # plot guess\n",
        "\n",
        "#plotting fit result\n",
        "  plt.plot(sample_w, funzione_fit(sample_w, out.beta[0]), color=[1,0,0], linewidth=2)\n",
        "  plt.scatter(x, y)\n",
        "  plt.title(\"Grafico\")\n",
        "  plt.xlabel(\"Pulsazione (1/s)\")\n",
        "  plt.xscale(\"log\")\n",
        "  plt.ylabel(\"Ampiezza (V)\")\n",
        "  plt.grid(which='both')\n",
        "  plt.legend()\n",
        "  plt.show()\n",
        "\n",
        "  sample_w = np.arange(0, 25000, 1)\n",
        "  plt.plot(sample_w, funzione_fit(sample_w, out.beta[0]), color=[1,0,0], linewidth=2)\n",
        "  plt.scatter(x, y)\n",
        "  plt.title(\"Grafico\")\n",
        "  plt.xlabel(\"Pulsazione (1/s)\")\n",
        "  plt.ylabel(\"Ampiezza (V)\")\n",
        "  plt.grid(which='both')\n",
        "  plt.legend()\n",
        "  plt.show()\n",
        "\n",
        "  \n",
        "  if print_output:\n",
        "    print(f\"t = {out.beta[0]}\")\n",
        "  "
      ],
      "metadata": {
        "id": "6aRwf1hZE6dz"
      },
      "execution_count": null,
      "outputs": []
    },
    {
      "cell_type": "markdown",
      "source": [
        "### Risultati Fit"
      ],
      "metadata": {
        "id": "_ZrDkSEpGZ_r"
      }
    },
    {
      "cell_type": "code",
      "source": [
        "fitplot(x, y, -2E-4, plot_guess=True)"
      ],
      "metadata": {
        "colab": {
          "base_uri": "https://localhost:8080/",
          "height": 825
        },
        "id": "67sGQpddGaQK",
        "outputId": "f0ba7ad2-4478-44c7-80cf-44d3b3f96a06"
      },
      "execution_count": null,
      "outputs": [
        {
          "output_type": "stream",
          "name": "stderr",
          "text": [
            "/usr/local/lib/python3.7/dist-packages/ipykernel_launcher.py:2: RuntimeWarning: divide by zero encountered in true_divide\n",
            "  \n",
            "/usr/local/lib/python3.7/dist-packages/ipykernel_launcher.py:2: RuntimeWarning: divide by zero encountered in true_divide\n",
            "  \n"
          ]
        },
        {
          "output_type": "display_data",
          "data": {
            "text/plain": [
              "<Figure size 648x432 with 1 Axes>"
            ],
            "image/png": "[encoded data removed]"
          },
          "metadata": {
            "needs_background": "light"
          }
        },
        {
          "output_type": "stream",
          "name": "stderr",
          "text": [
            "/usr/local/lib/python3.7/dist-packages/ipykernel_launcher.py:2: RuntimeWarning: divide by zero encountered in true_divide\n",
            "  \n",
            "No handles with labels found to put in legend.\n"
          ]
        },
        {
          "output_type": "display_data",
          "data": {
            "text/plain": [
              "<Figure size 432x288 with 1 Axes>"
            ],
            "image/png": "[encoded data removed]"
          },
          "metadata": {
            "needs_background": "light"
          }
        },
        {
          "output_type": "stream",
          "name": "stdout",
          "text": [
            "t = -0.00021924712832057993\n"
          ]
        }
      ]
    },
    {
      "cell_type": "code",
      "source": [
        "print(\"la pulsazione di taglio w_0 è : w_0 = \" + str(1 / 2.2E-4))\n",
        "print(\"la frequenza di taglio f_0 è: f_0 = \" + str((1 / 2.2E-4)/(2 * math.pi)))\n",
        "print(f\"la capacità del condensatore, nota la resistenza R={10E4}ohm è: C = \" + str(2.2E-4 / 10E4))"
      ],
      "metadata": {
        "colab": {
          "base_uri": "https://localhost:8080/"
        },
        "id": "XstlOPblHV2k",
        "outputId": "1a74814a-4490-4776-8633-ed5e51d66688"
      },
      "execution_count": null,
      "outputs": [
        {
          "output_type": "stream",
          "name": "stdout",
          "text": [
            "la pulsazione di taglio w_0 è : w_0 = 4545.454545454545\n",
            "la frequenza di taglio f_0 è: f_0 = 723.4315595086151\n",
            "la capacità del condensatore, nota la resistenza R=100000.0ohm è: C = 2.2000000000000003e-09\n"
          ]
        }
      ]
    },
    {
      "cell_type": "markdown",
      "source": [
        "# PassaBanda"
      ],
      "metadata": {
        "id": "jz513Z1pIhMU"
      }
    },
    {
      "cell_type": "markdown",
      "source": [
        "## Importo i Dati"
      ],
      "metadata": {
        "id": "1b-piV-lImAS"
      }
    },
    {
      "cell_type": "markdown",
      "source": [
        " I dati comprendono \n",
        "\n",
        " 1. Tensione in entrata (Volt)\n",
        " 2. Tensione in uscita (Volt)\n",
        " 3. Frequenza / pulsazione (kHz)\n",
        " 4. Sfasamento (Gradi)"
      ],
      "metadata": {
        "id": "bjuW8-uhIrMS"
      }
    },
    {
      "cell_type": "code",
      "source": [
        "tensioni_in_uscita = [1.2, 1.88, 2.52, 3.04, 4.1, 5.28, 6.72, 7.04, 6.88, 6.4, 5.9, 5.28, 4.6, 3.76, 3.12, 2.8, 2.4, ]\n",
        "\n",
        "tensioni_in_entrata = [9.28] * len(tensioni_in_uscita)\n",
        "\n",
        "frequenze = [95, 154, 210, 262, 373, 586, 1124, 2020, 2950, 4032, 4980, 6110, 7754, 10608, 12934, 15380, 18000]\n",
        "\n",
        "pulsazioni = [2 * math.pi * i for i in frequenze]\n",
        "\n",
        "sfasamenti = [81, 75, 68, 65, 56, 40, 20, -1.7, -15, -25, -32, -40, -58, -60, -65, -70, ]\n",
        "\n",
        "guadagni = [ tensioni_in_uscita[i] / tensioni_in_entrata[i] for i in range(0, len(tensioni_in_entrata))]"
      ],
      "metadata": {
        "id": "Ew4EucYrIkXy"
      },
      "execution_count": null,
      "outputs": []
    },
    {
      "cell_type": "markdown",
      "source": [
        "Eseguo un plot di prova per visualizzare i dati prima del fit"
      ],
      "metadata": {
        "id": "1ggHJMOpIvjK"
      }
    },
    {
      "cell_type": "code",
      "source": [
        "y = np.array(guadagni)\n",
        "x = np.array(pulsazioni)\n",
        "\n",
        "plt.scatter(x, y)\n",
        "plt.grid()"
      ],
      "metadata": {
        "colab": {
          "base_uri": "https://localhost:8080/",
          "height": 265
        },
        "id": "M9fKrDV3IwRJ",
        "outputId": "f66b9ad8-a441-496a-8ce0-c5b915788039"
      },
      "execution_count": null,
      "outputs": [
        {
          "output_type": "display_data",
          "data": {
            "text/plain": [
              "<Figure size 432x288 with 1 Axes>"
            ],
            "image/png": "[encoded data removed]"
          },
          "metadata": {
            "needs_background": "light"
          }
        }
      ]
    },
    {
      "cell_type": "code",
      "source": [
        "plt.xscale(\"log\")\n",
        "plt.scatter(x, y)\n",
        "plt.grid()"
      ],
      "metadata": {
        "colab": {
          "base_uri": "https://localhost:8080/",
          "height": 269
        },
        "id": "u_06Fj4qI1Za",
        "outputId": "25e95130-9ef8-4786-a344-58e8cd8eb79b"
      },
      "execution_count": null,
      "outputs": [
        {
          "output_type": "display_data",
          "data": {
            "text/plain": [
              "<Figure size 432x288 with 1 Axes>"
            ],
            "image/png": "[encoded data removed]"
          },
          "metadata": {
            "needs_background": "light"
          }
        }
      ]
    }
  ]
}